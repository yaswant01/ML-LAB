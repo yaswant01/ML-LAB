{
 "cells": [
  {
   "cell_type": "code",
   "execution_count": 4,
   "id": "fabc37cf",
   "metadata": {},
   "outputs": [
    {
     "name": "stdout",
     "output_type": "stream",
     "text": [
      "Enter coordinates of first point (x, y, z): 1 \n",
      "Enter coordinates of second point (x, y, z): 2\n",
      "Enter value of p for Minkowski distance calculation: 3\n",
      "Manhattan Distance: 1.0\n",
      "Euclidean Distance: 1.0\n",
      "Minkowski Distance (p=3.0): 1.0\n"
     ]
    }
   ],
   "source": [
    "import numpy as np\n",
    "import pandas as pd\n",
    "df = pd.read_csv(\"tips.csv\")\n",
    "\n",
    "# Function to calculate Manhattan distance\n",
    "def manhattan_distance(x, y):\n",
    "    return np.sum(np.abs(x - y))\n",
    "\n",
    "# Function to calculate Euclidean distance\n",
    "def euclidean_distance(x, y):\n",
    "    return np.sqrt(np.sum((x - y)**2))\n",
    "\n",
    "# Function to calculate Minkowski distance\n",
    "def minkowski_distance(x, y, p):\n",
    "    return np.power(np.sum(np.abs(x - y)**p), 1/p)\n",
    "\n",
    "# Get user input for coordinates of two 3D points\n",
    "point1 = np.array(input(\"Enter coordinates of first point (x, y, z): \").split(), dtype=float)\n",
    "point2 = np.array(input(\"Enter coordinates of second point (x, y, z): \").split(), dtype=float)\n",
    "\n",
    "# Calculate distances\n",
    "manhattan_dist = manhattan_distance(point1, point2)\n",
    "euclidean_dist = euclidean_distance(point1, point2)\n",
    "p = float(input(\"Enter value of p for Minkowski distance calculation: \"))\n",
    "minkowski_dist = minkowski_distance(point1, point2, p)\n",
    "\n",
    "# Print distances\n",
    "print(f\"Manhattan Distance: {manhattan_dist}\")\n",
    "print(f\"Euclidean Distance: {euclidean_dist}\")\n",
    "print(f\"Minkowski Distance (p={p}): {minkowski_dist}\")"
   ]
  },
  {
   "cell_type": "code",
   "execution_count": 2,
   "id": "14a247c7",
   "metadata": {},
   "outputs": [
    {
     "name": "stdout",
     "output_type": "stream",
     "text": [
      "Euclidean Distance Matrix:\n",
      "[[0.         0.53851648 0.50990195 ... 4.45982062 4.65080638 4.14004831]\n",
      " [0.53851648 0.         0.3        ... 4.49888875 4.71805044 4.15331193]\n",
      " [0.50990195 0.3        0.         ... 4.66154481 4.84871117 4.29883705]\n",
      " ...\n",
      " [4.45982062 4.49888875 4.66154481 ... 0.         0.6164414  0.64031242]\n",
      " [4.65080638 4.71805044 4.84871117 ... 0.6164414  0.         0.76811457]\n",
      " [4.14004831 4.15331193 4.29883705 ... 0.64031242 0.76811457 0.        ]]\n"
     ]
    }
   ],
   "source": [
    "from sklearn.datasets import load_iris\n",
    "from sklearn.metrics.pairwise import euclidean_distances\n",
    "\n",
    "# Load the Iris dataset\n",
    "iris = load_iris()\n",
    "data = iris.data\n",
    "\n",
    "# Calculate the Euclidean Distance Matrix\n",
    "distance_matrix = euclidean_distances(data)\n",
    "\n",
    "# Print the distance matrix\n",
    "print(\"Euclidean Distance Matrix:\")\n",
    "print(distance_matrix)"
   ]
  },
  {
   "cell_type": "code",
   "execution_count": 3,
   "id": "39026074",
   "metadata": {},
   "outputs": [
    {
     "data": {
      "image/png": "[encoded data removed]",
      "text/plain": [
       "<Figure size 576x432 with 1 Axes>"
      ]
     },
     "metadata": {
      "needs_background": "light"
     },
     "output_type": "display_data"
    }
   ],
   "source": [
    "import numpy as np\n",
    "import matplotlib.pyplot as plt\n",
    "from sklearn.datasets import load_iris\n",
    "\n",
    "# Load the Iris dataset\n",
    "iris = load_iris()\n",
    "X = iris.data\n",
    "y = iris.target\n",
    "\n",
    "# Select samples belonging to any two output classes\n",
    "class1 = 0  # Index of the first class\n",
    "class2 = 1  # Index of the second class\n",
    "class_indices = np.where((y == class1) | (y == class2))[0]\n",
    "X_selected = X[class_indices]\n",
    "y_selected = y[class_indices]\n",
    "\n",
    "# Choose two input attributes for plotting the scatter plot\n",
    "attribute1_index = 0  # Index of the first attribute\n",
    "attribute2_index = 1  # Index of the second attribute\n",
    "\n",
    "# Plot the scatter plot\n",
    "plt.figure(figsize=(8, 6))\n",
    "plt.scatter(X_selected[y_selected == class1, attribute1_index],\n",
    "            X_selected[y_selected == class1, attribute2_index],\n",
    "            label=f'Class {class1}', c='blue')\n",
    "plt.scatter(X_selected[y_selected == class2, attribute1_index],\n",
    "            X_selected[y_selected == class2, attribute2_index],\n",
    "            label=f'Class {class2}', c='red')\n",
    "plt.xlabel(f'Attribute {attribute1_index}')\n",
    "plt.ylabel(f'Attribute {attribute2_index}')\n",
    "plt.title(f'Scatter Plot of Attribute {attribute1_index} vs. Attribute {attribute2_index}')\n",
    "plt.legend()\n",
    "plt.grid(True)\n",
    "plt.show()"
   ]
  },
  {
   "cell_type": "code",
   "execution_count": null,
   "id": "a8c75eb8",
   "metadata": {},
   "outputs": [],
   "source": []
  }
 ],
 "metadata": {
  "kernelspec": {
   "display_name": "Python 3 (ipykernel)",
   "language": "python",
   "name": "python3"
  },
  "language_info": {
   "codemirror_mode": {
    "name": "ipython",
    "version": 3
   },
   "file_extension": ".py",
   "mimetype": "text/x-python",
   "name": "python",
   "nbconvert_exporter": "python",
   "pygments_lexer": "ipython3",
   "version": "3.9.12"
  }
 },
 "nbformat": 4,
 "nbformat_minor": 5
}
