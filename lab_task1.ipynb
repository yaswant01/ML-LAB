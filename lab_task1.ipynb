{
  "nbformat": 4,
  "nbformat_minor": 0,
  "metadata": {
    "colab": {
      "provenance": []
    },
    "kernelspec": {
      "name": "python3",
      "display_name": "Python 3"
    },
    "language_info": {
      "name": "python"
    }
  },
  "cells": [
    {
      "cell_type": "markdown",
      "source": [
        "NUMPY"
      ],
      "metadata": {
        "id": "NNXVIAd1NKYK"
      }
    },
    {
      "cell_type": "code",
      "source": [
        "import warnings\n",
        "warnings.filterwarnings('ignore')"
      ],
      "metadata": {
        "id": "KesZ3HLGLFxj"
      },
      "execution_count": 4,
      "outputs": []
    },
    {
      "cell_type": "code",
      "execution_count": 5,
      "metadata": {
        "colab": {
          "base_uri": "https://localhost:8080/"
        },
        "id": "P-7G79xDJYdb",
        "outputId": "d7f9f9ba-fe13-43c6-9d7a-ac2ea9cd65b1"
      },
      "outputs": [
        {
          "output_type": "stream",
          "name": "stdout",
          "text": [
            "[ 5 12 21 32]\n"
          ]
        }
      ],
      "source": [
        "#1Write a NumPy program to multiply two given arrays of same size element-by-element.\n",
        "import numpy as np\n",
        "\n",
        "ar1 = np.array([1, 2, 3, 4])\n",
        "ar2 = np.array([5, 6, 7, 8])\n",
        "\n",
        "result = np.multiply(ar1, ar2)\n",
        "print(result)"
      ]
    },
    {
      "cell_type": "code",
      "source": [
        "#2Write a NumPy program to find the missing data in a given array.\n",
        "import numpy as np\n",
        "\n",
        "ar = np.array([[1, 2, np.nan], [4, 5, 6], [np.nan, 7, np.nan]])\n",
        "\n",
        "missing_values = np.isnan(ar)\n",
        "\n",
        "print(\"Missing values mask:\\n\", missing_values)\n",
        "\n",
        "missing_indices = np.where(missing_values)\n",
        "print(\"Indices of missing values:\\n\", missing_indices)\n",
        "\n",
        "actual_missing_values = ar[missing_indices]\n",
        "print(\"Actual missing values:\\n\", actual_missing_values)"
      ],
      "metadata": {
        "colab": {
          "base_uri": "https://localhost:8080/"
        },
        "id": "bu1P4GjJKyaT",
        "outputId": "00b022d6-9b8c-4760-c816-736c5471a0ff"
      },
      "execution_count": 7,
      "outputs": [
        {
          "output_type": "stream",
          "name": "stdout",
          "text": [
            "Missing values mask:\n",
            " [[False False  True]\n",
            " [False False False]\n",
            " [ True False  True]]\n",
            "Indices of missing values:\n",
            " (array([0, 2, 2]), array([2, 0, 2]))\n",
            "Actual missing values:\n",
            " [nan nan nan]\n"
          ]
        }
      ]
    },
    {
      "cell_type": "code",
      "source": [
        "#3Write a NumPy program to test whether each element of a 1-D array is also present in a second array.\n",
        "import numpy as np\n",
        "\n",
        "ar1 = np.array([1, 2, 3, 4])\n",
        "ar2 = np.array([2, 4, 6, 8])\n",
        "\n",
        "is_present = np.isin(ar1, ar2)\n",
        "\n",
        "print(\"Elements in ar1 present in ar2:\", is_present)"
      ],
      "metadata": {
        "colab": {
          "base_uri": "https://localhost:8080/"
        },
        "id": "f73YXz9VLp0r",
        "outputId": "d287ce29-c622-464a-cabe-b5dc40492b65"
      },
      "execution_count": 8,
      "outputs": [
        {
          "output_type": "stream",
          "name": "stdout",
          "text": [
            "Elements in ar1 present in ar2: [False  True False  True]\n"
          ]
        }
      ]
    },
    {
      "cell_type": "code",
      "source": [
        "#4Write a NumPy program to save a NumPy array to a text file.\n",
        "import numpy as np\n",
        "\n",
        "arr = np.array([[1, 2, 3], [4, 5, 6], [7, 8, 9]])\n",
        "\n",
        "np.savetxt(\"array.txt\", arr, delimiter=\" \")\n",
        "\n",
        "np.savetxt(\"array_comma.txt\", arr, delimiter=\",\")\n",
        "\n",
        "print(\"Arrays saved successfully!\")"
      ],
      "metadata": {
        "colab": {
          "base_uri": "https://localhost:8080/"
        },
        "id": "g7E48KptMBTL",
        "outputId": "e22f59b8-36ce-41df-990a-74d31a49dc71"
      },
      "execution_count": 9,
      "outputs": [
        {
          "output_type": "stream",
          "name": "stdout",
          "text": [
            "Arrays saved successfully!\n"
          ]
        }
      ]
    },
    {
      "cell_type": "code",
      "source": [
        "#5Write a NumPy program to Create a 1-D array of 30 evenly spaced elements between 2.5. and 6.5, inclusive.\n",
        "import numpy as np\n",
        "\n",
        "start = 1.5\n",
        "end = 6.7\n",
        "\n",
        "num_elements = 30\n",
        "spacing = (end - start) / (num_elements - 1)\n",
        "\n",
        "ar = np.linspace(start, end, num_elements)\n",
        "\n",
        "print(ar)"
      ],
      "metadata": {
        "colab": {
          "base_uri": "https://localhost:8080/"
        },
        "id": "vFXfMkgaMawb",
        "outputId": "aebfda47-25b1-40be-ba6d-882ac6ec248c"
      },
      "execution_count": 12,
      "outputs": [
        {
          "output_type": "stream",
          "name": "stdout",
          "text": [
            "[1.5        1.67931034 1.85862069 2.03793103 2.21724138 2.39655172\n",
            " 2.57586207 2.75517241 2.93448276 3.1137931  3.29310345 3.47241379\n",
            " 3.65172414 3.83103448 4.01034483 4.18965517 4.36896552 4.54827586\n",
            " 4.72758621 4.90689655 5.0862069  5.26551724 5.44482759 5.62413793\n",
            " 5.80344828 5.98275862 6.16206897 6.34137931 6.52068966 6.7       ]\n"
          ]
        }
      ]
    },
    {
      "cell_type": "markdown",
      "source": [
        "PANDAS"
      ],
      "metadata": {
        "id": "lErCy0rUM_iL"
      }
    },
    {
      "cell_type": "code",
      "source": [
        "#1Write a Pandas program to convert Series of lists to one Series.\n",
        "import pandas as pd\n",
        "\n",
        "s = pd.Series([['Red', 'Blue', 'White'], ['Red', 'Black'], ['Yellow']])\n",
        "\n",
        "single_series = s.apply(pd.Series).stack().reset_index(drop=True)\n",
        "\n",
        "print(single_series)"
      ],
      "metadata": {
        "colab": {
          "base_uri": "https://localhost:8080/"
        },
        "id": "Br6GrMS7NGdy",
        "outputId": "c9561e84-4a9b-4338-e65c-608872d604a3"
      },
      "execution_count": 13,
      "outputs": [
        {
          "output_type": "stream",
          "name": "stdout",
          "text": [
            "0       Red\n",
            "1      Blue\n",
            "2     White\n",
            "3       Red\n",
            "4     Black\n",
            "5    Yellow\n",
            "dtype: object\n"
          ]
        }
      ]
    },
    {
      "cell_type": "code",
      "source": [
        "#2Write a Pandas program to create a subset of a given series based on value and condition.\n",
        "import pandas as pd\n",
        "\n",
        "s = pd.Series([5, 26, 15, 33, 48, 83])\n",
        "\n",
        "subset1 = s[s > 23]\n",
        "subset2 = s[s % 2 == 0]\n",
        "\n",
        "print(\"Values greater than 23:\", subset1)\n",
        "print(\"Even numbers:\", subset2)"
      ],
      "metadata": {
        "colab": {
          "base_uri": "https://localhost:8080/"
        },
        "id": "kp34-5i4NnS_",
        "outputId": "574a26ce-1ae5-4393-a781-3ffb9333b8f1"
      },
      "execution_count": 14,
      "outputs": [
        {
          "output_type": "stream",
          "name": "stdout",
          "text": [
            "Values greater than 23: 1    26\n",
            "3    33\n",
            "4    48\n",
            "5    83\n",
            "dtype: int64\n",
            "Even numbers: 1    26\n",
            "4    48\n",
            "dtype: int64\n"
          ]
        }
      ]
    },
    {
      "cell_type": "code",
      "source": [
        "#3Write a Pandas program to display most frequent value in a given series and replace everything else as 'Other' in the series.\n",
        "import pandas as pd\n",
        "\n",
        "s = pd.Series(['Apple', 'Banana', 'Apple', 'Orange', 'Apple', 'Mango', 'Banana'])\n",
        "\n",
        "most_frequent = s.value_counts().index[0]\n",
        "\n",
        "s[~s.isin(s.value_counts().index[:1])] = 'Other'\n",
        "\n",
        "print(\"Most frequent value:\", most_frequent)\n",
        "print(\"Modified Series:\", s)"
      ],
      "metadata": {
        "colab": {
          "base_uri": "https://localhost:8080/"
        },
        "id": "UPmjMRzROWYz",
        "outputId": "e3d1bf0c-5ef5-40b9-8eaf-bc831f70ab25"
      },
      "execution_count": 15,
      "outputs": [
        {
          "output_type": "stream",
          "name": "stdout",
          "text": [
            "Most frequent value: Apple\n",
            "Modified Series: 0    Apple\n",
            "1    Other\n",
            "2    Apple\n",
            "3    Other\n",
            "4    Apple\n",
            "5    Other\n",
            "6    Other\n",
            "dtype: object\n"
          ]
        }
      ]
    },
    {
      "cell_type": "code",
      "source": [
        "#4Write a Pandas program to find the positions of numbers that are multiples of 5 of a given series.\n",
        "import pandas as pd\n",
        "\n",
        "s = pd.Series([5, 26, 15, 33, 48, 83])\n",
        "\n",
        "positions = s.index[s % 5 == 0]\n",
        "\n",
        "print(\"Positions of multiples of 5:\", positions)"
      ],
      "metadata": {
        "colab": {
          "base_uri": "https://localhost:8080/"
        },
        "id": "hYedLFzYOr81",
        "outputId": "89a96454-0222-4d08-d3a0-917210c41078"
      },
      "execution_count": 16,
      "outputs": [
        {
          "output_type": "stream",
          "name": "stdout",
          "text": [
            "Positions of multiples of 5: Int64Index([0, 2], dtype='int64')\n"
          ]
        }
      ]
    },
    {
      "cell_type": "code",
      "source": [
        "#5Write a Pandas program to calculate the number of characters in each word in a given series.\n",
        "import pandas as pd\n",
        "\n",
        "s = pd.Series(['Hello', 'World', 'This', 'is', 'a', 'Numpy', 'and', 'Pandas', 'Series'])\n",
        "\n",
        "char_counts = s.str.len()\n",
        "\n",
        "print(\"Character counts:\", char_counts)"
      ],
      "metadata": {
        "colab": {
          "base_uri": "https://localhost:8080/"
        },
        "id": "ARpgHAIXO-pb",
        "outputId": "3bf914a5-dde6-4836-ee35-d954ce2b4c2b"
      },
      "execution_count": 18,
      "outputs": [
        {
          "output_type": "stream",
          "name": "stdout",
          "text": [
            "Character counts: 0    5\n",
            "1    5\n",
            "2    4\n",
            "3    2\n",
            "4    1\n",
            "5    5\n",
            "6    3\n",
            "7    6\n",
            "8    6\n",
            "dtype: int64\n"
          ]
        }
      ]
    },
    {
      "cell_type": "code",
      "source": [
        "#6Write a Pandas program to convert year-month string to dates adding a specified day of the month.\n",
        "import pandas as pd\n",
        "\n",
        "data = [\"2023-01\", \"2024-02\", \"2025-03\"]\n",
        "\n",
        "s = pd.Series(data)\n",
        "\n",
        "day = 15\n",
        "\n",
        "dates = pd.to_datetime(s, format=\"%Y-%m\")\n",
        "dates += pd.to_timedelta(day, unit=\"D\")\n",
        "\n",
        "print(\"Dates with added day:\", dates)"
      ],
      "metadata": {
        "colab": {
          "base_uri": "https://localhost:8080/"
        },
        "id": "xHn3y90TPWP0",
        "outputId": "d258c75a-3455-48f9-f867-68c2cf16f5da"
      },
      "execution_count": 19,
      "outputs": [
        {
          "output_type": "stream",
          "name": "stdout",
          "text": [
            "Dates with added day: 0   2023-01-16\n",
            "1   2024-02-16\n",
            "2   2025-03-16\n",
            "dtype: datetime64[ns]\n"
          ]
        }
      ]
    },
    {
      "cell_type": "code",
      "source": [
        "#7Write a Pandas program to create and display a DataFrame from a specified dictionary data which has the index labels.\n",
        "import pandas as pd\n",
        "\n",
        "data = {\n",
        "    \"Name\": [\"Alice\", \"Bob\", \"Charlie\"],\n",
        "    \"Age\": [25, 30, 35],\n",
        "    \"City\": [\"New York\", \"London\", \"Paris\"],\n",
        "}\n",
        "\n",
        "index_labels = [\"Person 1\", \"Person 2\", \"Person 3\"]\n",
        "df = pd.DataFrame(data, index=index_labels)\n",
        "\n",
        "print(df)"
      ],
      "metadata": {
        "colab": {
          "base_uri": "https://localhost:8080/"
        },
        "id": "SaYH2MsFPq6K",
        "outputId": "54ac6902-416a-4294-e327-d93ed47633a1"
      },
      "execution_count": 20,
      "outputs": [
        {
          "output_type": "stream",
          "name": "stdout",
          "text": [
            "             Name  Age      City\n",
            "Person 1    Alice   25  New York\n",
            "Person 2      Bob   30    London\n",
            "Person 3  Charlie   35     Paris\n"
          ]
        }
      ]
    },
    {
      "cell_type": "code",
      "source": [
        "#8 Write a Pandas program to select the rows where the number of attempts in the examination is greater than 2.\n",
        "import pandas as pd\n",
        "\n",
        "data = {'Student': ['Alice', 'Bob', 'Charlie', 'David'],\n",
        "        'Attempts': [1, 3, 2, 4]}\n",
        "\n",
        "df = pd.DataFrame(data)\n",
        "\n",
        "selected_rows = df[df['Attempts'] > 2]\n",
        "\n",
        "print(\"Original DataFrame:\")\n",
        "print(df)\n",
        "print(\"\\nRows where the number of attempts is greater than 2:\")\n",
        "print(selected_rows)"
      ],
      "metadata": {
        "colab": {
          "base_uri": "https://localhost:8080/"
        },
        "id": "xELvA-fgPzir",
        "outputId": "8935d5d0-172b-4cc6-90e2-c9caa51c5122"
      },
      "execution_count": 21,
      "outputs": [
        {
          "output_type": "stream",
          "name": "stdout",
          "text": [
            "Original DataFrame:\n",
            "   Student  Attempts\n",
            "0    Alice         1\n",
            "1      Bob         3\n",
            "2  Charlie         2\n",
            "3    David         4\n",
            "\n",
            "Rows where the number of attempts is greater than 2:\n",
            "  Student  Attempts\n",
            "1     Bob         3\n",
            "3   David         4\n"
          ]
        }
      ]
    },
    {
      "cell_type": "code",
      "source": [
        "#9Write a Pandas program to append a new row 'k' to data frame with given values for each column. Now delete the new row and return the original DataFrame.\n",
        "import pandas as pd\n",
        "\n",
        "df = pd.DataFrame({'A': [1, 2, 3], 'B': [4, 5, 6], 'C': [7, 8, 9]})\n",
        "\n",
        "new_row_values = {'A': 10, 'B': 11, 'C': 12}\n",
        "\n",
        "df = df.append(new_row_values, ignore_index=True)\n",
        "\n",
        "print(\"DataFrame with new row:\\n\", df)\n",
        "\n",
        "df = df.iloc[:-1]\n",
        "\n",
        "print(\"\\nOriginal DataFrame:\\n\", df)"
      ],
      "metadata": {
        "colab": {
          "base_uri": "https://localhost:8080/"
        },
        "id": "qjZpTgbuQENM",
        "outputId": "2df4e846-cf84-4a56-a6fd-87b3e3c604a6"
      },
      "execution_count": 22,
      "outputs": [
        {
          "output_type": "stream",
          "name": "stdout",
          "text": [
            "DataFrame with new row:\n",
            "     A   B   C\n",
            "0   1   4   7\n",
            "1   2   5   8\n",
            "2   3   6   9\n",
            "3  10  11  12\n",
            "\n",
            "Original DataFrame:\n",
            "    A  B  C\n",
            "0  1  4  7\n",
            "1  2  5  8\n",
            "2  3  6  9\n"
          ]
        }
      ]
    },
    {
      "cell_type": "code",
      "source": [
        "#10Write a Pandas program to sort the DataFrame first by 'name' in descending order, then by &#39;score&#39; in ascending order.\n",
        "import pandas as pd\n",
        "\n",
        "data = {'name': ['Alice', 'Bob', 'Charlie', 'David', 'Eve'],\n",
        "        'score': [90, 85, 75, 80, 95]}\n",
        "df = pd.DataFrame(data)\n",
        "\n",
        "df = df.sort_values(by=['name', 'score'], ascending=[False, True])\n",
        "\n",
        "print(df)"
      ],
      "metadata": {
        "colab": {
          "base_uri": "https://localhost:8080/"
        },
        "id": "uk8mBUcHQS3b",
        "outputId": "2427a25c-4afc-456a-f04f-e79ecc8814c1"
      },
      "execution_count": 23,
      "outputs": [
        {
          "output_type": "stream",
          "name": "stdout",
          "text": [
            "      name  score\n",
            "4      Eve     95\n",
            "3    David     80\n",
            "2  Charlie     75\n",
            "1      Bob     85\n",
            "0    Alice     90\n"
          ]
        }
      ]
    },
    {
      "cell_type": "code",
      "source": [
        "#11Write a Pandas program to replace the 'qualify' column contains the values 'yes' and 'no' with True and False.\n",
        "import pandas as pd\n",
        "\n",
        "data = {'name': ['Alice', 'Bob', 'Charlie', 'David', 'Eve'],\n",
        "        'score': [90, 85, 75, 80, 95],\n",
        "        'qualify': ['yes', 'no', 'yes', 'no', 'yes']}\n",
        "df = pd.DataFrame(data)\n",
        "\n",
        "df['qualify'] = df['qualify'].replace({'yes': True, 'no': False})\n",
        "\n",
        "print(df)"
      ],
      "metadata": {
        "colab": {
          "base_uri": "https://localhost:8080/"
        },
        "id": "wzxQC3yyQceo",
        "outputId": "a56ee766-e8c5-4321-c7ba-84669bb89f84"
      },
      "execution_count": 24,
      "outputs": [
        {
          "output_type": "stream",
          "name": "stdout",
          "text": [
            "      name  score  qualify\n",
            "0    Alice     90     True\n",
            "1      Bob     85    False\n",
            "2  Charlie     75     True\n",
            "3    David     80    False\n",
            "4      Eve     95     True\n"
          ]
        }
      ]
    },
    {
      "cell_type": "code",
      "source": [
        "#12Write a Pandas program to remove infinite values from a given DataFrame.\n",
        "import pandas as pd\n",
        "import numpy as np\n",
        "\n",
        "data = {'col1': [1, np.inf, 3, np.nan, -np.inf],\n",
        "        'col2': [4, 5, np.inf, 7, 8]}\n",
        "df = pd.DataFrame(data)\n",
        "\n",
        "df = df.replace([np.inf, -np.inf], np.nan)\n",
        "\n",
        "df = df.dropna()\n",
        "\n",
        "print(df)"
      ],
      "metadata": {
        "colab": {
          "base_uri": "https://localhost:8080/"
        },
        "id": "GtfZLJ2iQrRL",
        "outputId": "6445b406-f290-4a23-84c5-1cda3b3a12a2"
      },
      "execution_count": 25,
      "outputs": [
        {
          "output_type": "stream",
          "name": "stdout",
          "text": [
            "   col1  col2\n",
            "0   1.0   4.0\n"
          ]
        }
      ]
    }
  ]
}