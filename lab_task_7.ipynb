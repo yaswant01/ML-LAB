{
 "cells": [
  {
   "cell_type": "markdown",
   "id": "412ff50b",
   "metadata": {},
   "source": [
    "Create a vector (array) of 1XN dimension representing N-\n",
    "dimensional feature vector of a sample. Write a program to\n",
    "\n",
    "compute the mean and variance of the elements present in the\n",
    "array.\n",
    "\n",
    "Comment what the mean and variance of sample represents."
   ]
  },
  {
   "cell_type": "code",
   "execution_count": 1,
   "id": "52a01092",
   "metadata": {},
   "outputs": [
    {
     "name": "stdout",
     "output_type": "stream",
     "text": [
      "Sample Vector: [[0.57034922 0.63237441 0.4004435  0.38925018 0.33535989 0.50476013\n",
      "  0.80074523 0.83330286 0.21956558 0.88017   ]]\n",
      "Mean: 0.5566321003385802\n",
      "Variance: 0.04644172732616709\n"
     ]
    }
   ],
   "source": [
    "import numpy as np\n",
    "\n",
    "def compute_mean_variance(vector):\n",
    "    mean = np.mean(vector)\n",
    "    variance = np.var(vector)\n",
    "    return mean, variance\n",
    "\n",
    "# Example vector creation\n",
    "N = 10  # Define the dimensionality of the vector\n",
    "sample_vector = np.random.rand(1, N)  # Creating a random vector of shape 1xN\n",
    "\n",
    "# Compute mean and variance\n",
    "mean, variance = compute_mean_variance(sample_vector)\n",
    "\n",
    "print(\"Sample Vector:\", sample_vector)\n",
    "print(\"Mean:\", mean)\n",
    "print(\"Variance:\", variance)"
   ]
  },
  {
   "cell_type": "markdown",
   "id": "6696b2c0",
   "metadata": {},
   "source": [
    "Create two vectors each of dimension 1XM each representing N-\n",
    "dimensional feature vector of a sample. Write a program to\n",
    "\n",
    "compute the Covariance between them.\n",
    "\n",
    "Comment what Covariance between two vectors represents."
   ]
  },
  {
   "cell_type": "code",
   "execution_count": 2,
   "id": "9246cea1",
   "metadata": {},
   "outputs": [
    {
     "name": "stdout",
     "output_type": "stream",
     "text": [
      "Sample Vector 1: [[0.25584087 0.65007892 0.67037579 0.86992284 0.94739697]]\n",
      "Sample Vector 2: [[0.75823044 0.31094109 0.43522641 0.82019094 0.04253618]]\n",
      "Covariance between vectors: -0.041233274381060454\n"
     ]
    }
   ],
   "source": [
    "import numpy as np\n",
    "\n",
    "def compute_covariance(vector1, vector2):\n",
    "    covariance_matrix = np.cov(vector1, vector2)\n",
    "    covariance = covariance_matrix[0, 1]  # Extracting the covariance value from the covariance matrix\n",
    "    return covariance\n",
    "\n",
    "# Example vectors creation\n",
    "M = 5  # Define the dimensionality of the vectors\n",
    "sample_vector1 = np.random.rand(1, M)  # Creating a random vector of shape 1xM\n",
    "sample_vector2 = np.random.rand(1, M)  # Creating another random vector of shape 1xM\n",
    "\n",
    "# Compute covariance\n",
    "covariance = compute_covariance(sample_vector1, sample_vector2)\n",
    "\n",
    "print(\"Sample Vector 1:\", sample_vector1)\n",
    "print(\"Sample Vector 2:\", sample_vector2)\n",
    "print(\"Covariance between vectors:\", covariance)"
   ]
  },
  {
   "cell_type": "markdown",
   "id": "e2409065",
   "metadata": {},
   "source": [
    "Create two vectors each of dimension 1XN. Write a program to\n",
    "compute the Correlation between them.\n",
    "\n",
    "Comment what the Correlation represents."
   ]
  },
  {
   "cell_type": "code",
   "execution_count": 3,
   "id": "f4aecaba",
   "metadata": {},
   "outputs": [
    {
     "name": "stdout",
     "output_type": "stream",
     "text": [
      "Correlation between the two vectors: -0.9999999999999998\n"
     ]
    }
   ],
   "source": [
    "import numpy as np\n",
    "\n",
    "# Function to compute correlation\n",
    "def compute_correlation(vector1, vector2):\n",
    "    # Compute means\n",
    "    mean1 = np.mean(vector1)\n",
    "    mean2 = np.mean(vector2)\n",
    "    \n",
    "    # Compute standard deviations\n",
    "    std_dev1 = np.std(vector1)\n",
    "    std_dev2 = np.std(vector2)\n",
    "    \n",
    "    # Compute covariance\n",
    "    covariance = np.mean((vector1 - mean1) * (vector2 - mean2))\n",
    "    \n",
    "    # Compute correlation\n",
    "    correlation = covariance / (std_dev1 * std_dev2)\n",
    "    \n",
    "    return correlation\n",
    "\n",
    "# Example vectors (replace these with your own vectors)\n",
    "vector1 = np.array([1, 2, 3, 4, 5])\n",
    "vector2 = np.array([5, 4, 3, 2, 1])\n",
    "\n",
    "# Compute correlation\n",
    "corr = compute_correlation(vector1, vector2)\n",
    "print(\"Correlation between the two vectors:\", corr)\n"
   ]
  },
  {
   "cell_type": "markdown",
   "id": "a918813b",
   "metadata": {},
   "source": [
    "Create a Matrix of MXN dimension representing the M-dimensional\n",
    "feature vector for N number of samples i. e (i,j)th entry of the matrix\n",
    "represents the ith feature of jth sample. Write a program to compute\n",
    "the covariance matrix and correlation matrix. Comment on\n",
    "takeaways from these matrixes."
   ]
  },
  {
   "cell_type": "code",
   "execution_count": 4,
   "id": "318c15b1",
   "metadata": {},
   "outputs": [
    {
     "name": "stdout",
     "output_type": "stream",
     "text": [
      "Covariance Matrix:\n",
      "[[1. 1. 1.]\n",
      " [1. 1. 1.]\n",
      " [1. 1. 1.]]\n",
      "\n",
      "Correlation Matrix:\n",
      "[[1. 1. 1.]\n",
      " [1. 1. 1.]\n",
      " [1. 1. 1.]]\n"
     ]
    }
   ],
   "source": [
    "import numpy as np\n",
    "\n",
    "# Function to compute covariance matrix\n",
    "def compute_covariance_matrix(matrix):\n",
    "    return np.cov(matrix)\n",
    "\n",
    "# Function to compute correlation matrix\n",
    "def compute_correlation_matrix(matrix):\n",
    "    return np.corrcoef(matrix)\n",
    "\n",
    "# Example matrix (replace this with your own matrix)\n",
    "matrix = np.array([[1, 2, 3], [4, 5, 6], [7, 8, 9]])\n",
    "\n",
    "# Compute covariance matrix\n",
    "cov_matrix = compute_covariance_matrix(matrix)\n",
    "print(\"Covariance Matrix:\")\n",
    "print(cov_matrix)\n",
    "\n",
    "# Compute correlation matrix\n",
    "corr_matrix = compute_correlation_matrix(matrix)\n",
    "print(\"\\nCorrelation Matrix:\")\n",
    "print(corr_matrix)\n"
   ]
  },
  {
   "cell_type": "code",
   "execution_count": null,
   "id": "4f0c1707",
   "metadata": {},
   "outputs": [],
   "source": []
  }
 ],
 "metadata": {
  "kernelspec": {
   "display_name": "Python 3 (ipykernel)",
   "language": "python",
   "name": "python3"
  },
  "language_info": {
   "codemirror_mode": {
    "name": "ipython",
    "version": 3
   },
   "file_extension": ".py",
   "mimetype": "text/x-python",
   "name": "python",
   "nbconvert_exporter": "python",
   "pygments_lexer": "ipython3",
   "version": "3.9.12"
  }
 },
 "nbformat": 4,
 "nbformat_minor": 5
}
