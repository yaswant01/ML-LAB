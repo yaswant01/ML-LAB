{
  "nbformat": 4,
  "nbformat_minor": 0,
  "metadata": {
    "colab": {
      "provenance": []
    },
    "kernelspec": {
      "name": "python3",
      "display_name": "Python 3"
    },
    "language_info": {
      "name": "python"
    }
  },
  "cells": [
    {
      "cell_type": "code",
      "execution_count": null,
      "metadata": {
        "id": "ZKkWixipNDyy"
      },
      "outputs": [],
      "source": [
        "import pandas as pd\n",
        "import numpy as np"
      ]
    },
    {
      "cell_type": "code",
      "source": [
        "import matplotlib.pyplot as plt\n",
        "%matplotlib inline"
      ],
      "metadata": {
        "id": "JXyBfYujOXkg"
      },
      "execution_count": null,
      "outputs": []
    },
    {
      "cell_type": "code",
      "source": [
        "df = pd.read_csv('tips.csv')"
      ],
      "metadata": {
        "id": "Ae0fUPBlOt3u"
      },
      "execution_count": null,
      "outputs": []
    },
    {
      "cell_type": "code",
      "source": [
        "df.isnull().sum()"
      ],
      "metadata": {
        "colab": {
          "base_uri": "https://localhost:8080/"
        },
        "id": "7bA7f6ICPDEA",
        "outputId": "2d793241-45ee-43ec-8f1a-e359216d325d"
      },
      "execution_count": null,
      "outputs": [
        {
          "output_type": "execute_result",
          "data": {
            "text/plain": [
              "Unnamed: 0     0\n",
              "total_bill    39\n",
              "tip            0\n",
              "sex            0\n",
              "smoker         0\n",
              "day            0\n",
              "time           0\n",
              "size           0\n",
              "dtype: int64"
            ]
          },
          "metadata": {},
          "execution_count": 25
        }
      ]
    },
    {
      "cell_type": "code",
      "source": [
        "import pandas as pd\n",
        "data = pd.read_csv('tips.csv')\n",
        "missing_values = data.isnull().sum()\n",
        "print(\"Columns with missing values:\")\n",
        "print(missing_values[missing_values > 0])"
      ],
      "metadata": {
        "colab": {
          "base_uri": "https://localhost:8080/"
        },
        "id": "gr3dJz5-QHK_",
        "outputId": "70d1b863-1311-4cb1-f445-d5a04582e6ce"
      },
      "execution_count": null,
      "outputs": [
        {
          "output_type": "stream",
          "name": "stdout",
          "text": [
            "Columns with missing values:\n",
            "total_bill    39\n",
            "dtype: int64\n"
          ]
        }
      ]
    },
    {
      "cell_type": "code",
      "source": [
        "import pandas as pd\n",
        "data = pd.read_csv('tips.csv')\n",
        "missing_values = data.isnull().sum()\n",
        "print(\"Missing values in the dataset:\")\n",
        "print(missing_values)"
      ],
      "metadata": {
        "colab": {
          "base_uri": "https://localhost:8080/"
        },
        "id": "8Gi84pBKQZOI",
        "outputId": "c267437c-0f62-4d40-e44f-99b214b8b73d"
      },
      "execution_count": null,
      "outputs": [
        {
          "output_type": "stream",
          "name": "stdout",
          "text": [
            "Missing values in the dataset:\n",
            "Unnamed: 0     0\n",
            "total_bill    39\n",
            "tip            0\n",
            "sex            0\n",
            "smoker         0\n",
            "day            0\n",
            "time           0\n",
            "size           0\n",
            "dtype: int64\n"
          ]
        }
      ]
    },
    {
      "cell_type": "code",
      "source": [
        "df['total_bill'] = df['total_bill'].fillna(df['total_bill'].mean())"
      ],
      "metadata": {
        "id": "AML7TDlJSHYN"
      },
      "execution_count": null,
      "outputs": []
    },
    {
      "cell_type": "code",
      "source": [
        "df"
      ],
      "metadata": {
        "colab": {
          "base_uri": "https://localhost:8080/",
          "height": 424
        },
        "id": "8H-LfxQESUHB",
        "outputId": "55fc0969-608c-4c10-f557-5116e6f8b0ed"
      },
      "execution_count": null,
      "outputs": [
        {
          "output_type": "execute_result",
          "data": {
            "text/plain": [
              "     Unnamed: 0  total_bill   tip     sex smoker   day    time  size\n",
              "0             0   16.990000  1.01  Female     No   Sun  Dinner     2\n",
              "1             1   21.360195  1.66    Male     No   Sun  Dinner     3\n",
              "2             2   21.010000  3.50    Male     No   Sun  Dinner     3\n",
              "3             3   23.680000  3.31    Male     No   Sun  Dinner     2\n",
              "4             4   24.590000  3.61  Female     No   Sun  Dinner     4\n",
              "..          ...         ...   ...     ...    ...   ...     ...   ...\n",
              "239         239   29.030000  5.92    Male     No   Sat  Dinner     3\n",
              "240         240   27.180000  2.00  Female    Yes   Sat  Dinner     2\n",
              "241         241   22.670000  2.00    Male    Yes   Sat  Dinner     2\n",
              "242         242   17.820000  1.75    Male     No   Sat  Dinner     2\n",
              "243         243   18.780000  3.00  Female     No  Thur  Dinner     2\n",
              "\n",
              "[244 rows x 8 columns]"
            ],
            "text/html": [
              "\n",
              "  <div id=\"df-80100a18-6d97-4462-a66a-317396818636\" class=\"colab-df-container\">\n",
              "    <div>\n",
              "<style scoped>\n",
              "    .dataframe tbody tr th:only-of-type {\n",
              "        vertical-align: middle;\n",
              "    }\n",
              "\n",
              "    .dataframe tbody tr th {\n",
              "        vertical-align: top;\n",
              "    }\n",
              "\n",
              "    .dataframe thead th {\n",
              "        text-align: right;\n",
              "    }\n",
              "</style>\n",
              "<table border=\"1\" class=\"dataframe\">\n",
              "  <thead>\n",
              "    <tr style=\"text-align: right;\">\n",
              "      <th></th>\n",
              "      <th>Unnamed: 0</th>\n",
              "      <th>total_bill</th>\n",
              "      <th>tip</th>\n",
              "      <th>sex</th>\n",
              "      <th>smoker</th>\n",
              "      <th>day</th>\n",
              "      <th>time</th>\n",
              "      <th>size</th>\n",
              "    </tr>\n",
              "  </thead>\n",
              "  <tbody>\n",
              "    <tr>\n",
              "      <th>0</th>\n",
              "      <td>0</td>\n",
              "      <td>16.990000</td>\n",
              "      <td>1.01</td>\n",
              "      <td>Female</td>\n",
              "      <td>No</td>\n",
              "      <td>Sun</td>\n",
              "      <td>Dinner</td>\n",
              "      <td>2</td>\n",
              "    </tr>\n",
              "    <tr>\n",
              "      <th>1</th>\n",
              "      <td>1</td>\n",
              "      <td>21.360195</td>\n",
              "      <td>1.66</td>\n",
              "      <td>Male</td>\n",
              "      <td>No</td>\n",
              "      <td>Sun</td>\n",
              "      <td>Dinner</td>\n",
              "      <td>3</td>\n",
              "    </tr>\n",
              "    <tr>\n",
              "      <th>2</th>\n",
              "      <td>2</td>\n",
              "      <td>21.010000</td>\n",
              "      <td>3.50</td>\n",
              "      <td>Male</td>\n",
              "      <td>No</td>\n",
              "      <td>Sun</td>\n",
              "      <td>Dinner</td>\n",
              "      <td>3</td>\n",
              "    </tr>\n",
              "    <tr>\n",
              "      <th>3</th>\n",
              "      <td>3</td>\n",
              "      <td>23.680000</td>\n",
              "      <td>3.31</td>\n",
              "      <td>Male</td>\n",
              "      <td>No</td>\n",
              "      <td>Sun</td>\n",
              "      <td>Dinner</td>\n",
              "      <td>2</td>\n",
              "    </tr>\n",
              "    <tr>\n",
              "      <th>4</th>\n",
              "      <td>4</td>\n",
              "      <td>24.590000</td>\n",
              "      <td>3.61</td>\n",
              "      <td>Female</td>\n",
              "      <td>No</td>\n",
              "      <td>Sun</td>\n",
              "      <td>Dinner</td>\n",
              "      <td>4</td>\n",
              "    </tr>\n",
              "    <tr>\n",
              "      <th>...</th>\n",
              "      <td>...</td>\n",
              "      <td>...</td>\n",
              "      <td>...</td>\n",
              "      <td>...</td>\n",
              "      <td>...</td>\n",
              "      <td>...</td>\n",
              "      <td>...</td>\n",
              "      <td>...</td>\n",
              "    </tr>\n",
              "    <tr>\n",
              "      <th>239</th>\n",
              "      <td>239</td>\n",
              "      <td>29.030000</td>\n",
              "      <td>5.92</td>\n",
              "      <td>Male</td>\n",
              "      <td>No</td>\n",
              "      <td>Sat</td>\n",
              "      <td>Dinner</td>\n",
              "      <td>3</td>\n",
              "    </tr>\n",
              "    <tr>\n",
              "      <th>240</th>\n",
              "      <td>240</td>\n",
              "      <td>27.180000</td>\n",
              "      <td>2.00</td>\n",
              "      <td>Female</td>\n",
              "      <td>Yes</td>\n",
              "      <td>Sat</td>\n",
              "      <td>Dinner</td>\n",
              "      <td>2</td>\n",
              "    </tr>\n",
              "    <tr>\n",
              "      <th>241</th>\n",
              "      <td>241</td>\n",
              "      <td>22.670000</td>\n",
              "      <td>2.00</td>\n",
              "      <td>Male</td>\n",
              "      <td>Yes</td>\n",
              "      <td>Sat</td>\n",
              "      <td>Dinner</td>\n",
              "      <td>2</td>\n",
              "    </tr>\n",
              "    <tr>\n",
              "      <th>242</th>\n",
              "      <td>242</td>\n",
              "      <td>17.820000</td>\n",
              "      <td>1.75</td>\n",
              "      <td>Male</td>\n",
              "      <td>No</td>\n",
              "      <td>Sat</td>\n",
              "      <td>Dinner</td>\n",
              "      <td>2</td>\n",
              "    </tr>\n",
              "    <tr>\n",
              "      <th>243</th>\n",
              "      <td>243</td>\n",
              "      <td>18.780000</td>\n",
              "      <td>3.00</td>\n",
              "      <td>Female</td>\n",
              "      <td>No</td>\n",
              "      <td>Thur</td>\n",
              "      <td>Dinner</td>\n",
              "      <td>2</td>\n",
              "    </tr>\n",
              "  </tbody>\n",
              "</table>\n",
              "<p>244 rows × 8 columns</p>\n",
              "</div>\n",
              "    <div class=\"colab-df-buttons\">\n",
              "\n",
              "  <div class=\"colab-df-container\">\n",
              "    <button class=\"colab-df-convert\" onclick=\"convertToInteractive('df-80100a18-6d97-4462-a66a-317396818636')\"\n",
              "            title=\"Convert this dataframe to an interactive table.\"\n",
              "            style=\"display:none;\">\n",
              "\n",
              "  <svg xmlns=\"http://www.w3.org/2000/svg\" height=\"24px\" viewBox=\"0 -960 960 960\">\n",
              "    <path d=\"M120-120v-720h720v720H120Zm60-500h600v-160H180v160Zm220 220h160v-160H400v160Zm0 220h160v-160H400v160ZM180-400h160v-160H180v160Zm440 0h160v-160H620v160ZM180-180h160v-160H180v160Zm440 0h160v-160H620v160Z\"/>\n",
              "  </svg>\n",
              "    </button>\n",
              "\n",
              "  <style>\n",
              "    .colab-df-container {\n",
              "      display:flex;\n",
              "      gap: 12px;\n",
              "    }\n",
              "\n",
              "    .colab-df-convert {\n",
              "      background-color: #E8F0FE;\n",
              "      border: none;\n",
              "      border-radius: 50%;\n",
              "      cursor: pointer;\n",
              "      display: none;\n",
              "      fill: #1967D2;\n",
              "      height: 32px;\n",
              "      padding: 0 0 0 0;\n",
              "      width: 32px;\n",
              "    }\n",
              "\n",
              "    .colab-df-convert:hover {\n",
              "      background-color: #E2EBFA;\n",
              "      box-shadow: 0px 1px 2px rgba(60, 64, 67, 0.3), 0px 1px 3px 1px rgba(60, 64, 67, 0.15);\n",
              "      fill: #174EA6;\n",
              "    }\n",
              "\n",
              "    .colab-df-buttons div {\n",
              "      margin-bottom: 4px;\n",
              "    }\n",
              "\n",
              "    [theme=dark] .colab-df-convert {\n",
              "      background-color: #3B4455;\n",
              "      fill: #D2E3FC;\n",
              "    }\n",
              "\n",
              "    [theme=dark] .colab-df-convert:hover {\n",
              "      background-color: #434B5C;\n",
              "      box-shadow: 0px 1px 3px 1px rgba(0, 0, 0, 0.15);\n",
              "      filter: drop-shadow(0px 1px 2px rgba(0, 0, 0, 0.3));\n",
              "      fill: #FFFFFF;\n",
              "    }\n",
              "  </style>\n",
              "\n",
              "    <script>\n",
              "      const buttonEl =\n",
              "        document.querySelector('#df-80100a18-6d97-4462-a66a-317396818636 button.colab-df-convert');\n",
              "      buttonEl.style.display =\n",
              "        google.colab.kernel.accessAllowed ? 'block' : 'none';\n",
              "\n",
              "      async function convertToInteractive(key) {\n",
              "        const element = document.querySelector('#df-80100a18-6d97-4462-a66a-317396818636');\n",
              "        const dataTable =\n",
              "          await google.colab.kernel.invokeFunction('convertToInteractive',\n",
              "                                                    [key], {});\n",
              "        if (!dataTable) return;\n",
              "\n",
              "        const docLinkHtml = 'Like what you see? Visit the ' +\n",
              "          '<a target=\"_blank\" href=https://colab.research.google.com/notebooks/data_table.ipynb>data table notebook</a>'\n",
              "          + ' to learn more about interactive tables.';\n",
              "        element.innerHTML = '';\n",
              "        dataTable['output_type'] = 'display_data';\n",
              "        await google.colab.output.renderOutput(dataTable, element);\n",
              "        const docLink = document.createElement('div');\n",
              "        docLink.innerHTML = docLinkHtml;\n",
              "        element.appendChild(docLink);\n",
              "      }\n",
              "    </script>\n",
              "  </div>\n",
              "\n",
              "\n",
              "<div id=\"df-24b9dd7d-d177-4e79-9e9f-3a19d884812f\">\n",
              "  <button class=\"colab-df-quickchart\" onclick=\"quickchart('df-24b9dd7d-d177-4e79-9e9f-3a19d884812f')\"\n",
              "            title=\"Suggest charts\"\n",
              "            style=\"display:none;\">\n",
              "\n",
              "<svg xmlns=\"http://www.w3.org/2000/svg\" height=\"24px\"viewBox=\"0 0 24 24\"\n",
              "     width=\"24px\">\n",
              "    <g>\n",
              "        <path d=\"M19 3H5c-1.1 0-2 .9-2 2v14c0 1.1.9 2 2 2h14c1.1 0 2-.9 2-2V5c0-1.1-.9-2-2-2zM9 17H7v-7h2v7zm4 0h-2V7h2v10zm4 0h-2v-4h2v4z\"/>\n",
              "    </g>\n",
              "</svg>\n",
              "  </button>\n",
              "\n",
              "<style>\n",
              "  .colab-df-quickchart {\n",
              "      --bg-color: #E8F0FE;\n",
              "      --fill-color: #1967D2;\n",
              "      --hover-bg-color: #E2EBFA;\n",
              "      --hover-fill-color: #174EA6;\n",
              "      --disabled-fill-color: #AAA;\n",
              "      --disabled-bg-color: #DDD;\n",
              "  }\n",
              "\n",
              "  [theme=dark] .colab-df-quickchart {\n",
              "      --bg-color: #3B4455;\n",
              "      --fill-color: #D2E3FC;\n",
              "      --hover-bg-color: #434B5C;\n",
              "      --hover-fill-color: #FFFFFF;\n",
              "      --disabled-bg-color: #3B4455;\n",
              "      --disabled-fill-color: #666;\n",
              "  }\n",
              "\n",
              "  .colab-df-quickchart {\n",
              "    background-color: var(--bg-color);\n",
              "    border: none;\n",
              "    border-radius: 50%;\n",
              "    cursor: pointer;\n",
              "    display: none;\n",
              "    fill: var(--fill-color);\n",
              "    height: 32px;\n",
              "    padding: 0;\n",
              "    width: 32px;\n",
              "  }\n",
              "\n",
              "  .colab-df-quickchart:hover {\n",
              "    background-color: var(--hover-bg-color);\n",
              "    box-shadow: 0 1px 2px rgba(60, 64, 67, 0.3), 0 1px 3px 1px rgba(60, 64, 67, 0.15);\n",
              "    fill: var(--button-hover-fill-color);\n",
              "  }\n",
              "\n",
              "  .colab-df-quickchart-complete:disabled,\n",
              "  .colab-df-quickchart-complete:disabled:hover {\n",
              "    background-color: var(--disabled-bg-color);\n",
              "    fill: var(--disabled-fill-color);\n",
              "    box-shadow: none;\n",
              "  }\n",
              "\n",
              "  .colab-df-spinner {\n",
              "    border: 2px solid var(--fill-color);\n",
              "    border-color: transparent;\n",
              "    border-bottom-color: var(--fill-color);\n",
              "    animation:\n",
              "      spin 1s steps(1) infinite;\n",
              "  }\n",
              "\n",
              "  @keyframes spin {\n",
              "    0% {\n",
              "      border-color: transparent;\n",
              "      border-bottom-color: var(--fill-color);\n",
              "      border-left-color: var(--fill-color);\n",
              "    }\n",
              "    20% {\n",
              "      border-color: transparent;\n",
              "      border-left-color: var(--fill-color);\n",
              "      border-top-color: var(--fill-color);\n",
              "    }\n",
              "    30% {\n",
              "      border-color: transparent;\n",
              "      border-left-color: var(--fill-color);\n",
              "      border-top-color: var(--fill-color);\n",
              "      border-right-color: var(--fill-color);\n",
              "    }\n",
              "    40% {\n",
              "      border-color: transparent;\n",
              "      border-right-color: var(--fill-color);\n",
              "      border-top-color: var(--fill-color);\n",
              "    }\n",
              "    60% {\n",
              "      border-color: transparent;\n",
              "      border-right-color: var(--fill-color);\n",
              "    }\n",
              "    80% {\n",
              "      border-color: transparent;\n",
              "      border-right-color: var(--fill-color);\n",
              "      border-bottom-color: var(--fill-color);\n",
              "    }\n",
              "    90% {\n",
              "      border-color: transparent;\n",
              "      border-bottom-color: var(--fill-color);\n",
              "    }\n",
              "  }\n",
              "</style>\n",
              "\n",
              "  <script>\n",
              "    async function quickchart(key) {\n",
              "      const quickchartButtonEl =\n",
              "        document.querySelector('#' + key + ' button');\n",
              "      quickchartButtonEl.disabled = true;  // To prevent multiple clicks.\n",
              "      quickchartButtonEl.classList.add('colab-df-spinner');\n",
              "      try {\n",
              "        const charts = await google.colab.kernel.invokeFunction(\n",
              "            'suggestCharts', [key], {});\n",
              "      } catch (error) {\n",
              "        console.error('Error during call to suggestCharts:', error);\n",
              "      }\n",
              "      quickchartButtonEl.classList.remove('colab-df-spinner');\n",
              "      quickchartButtonEl.classList.add('colab-df-quickchart-complete');\n",
              "    }\n",
              "    (() => {\n",
              "      let quickchartButtonEl =\n",
              "        document.querySelector('#df-24b9dd7d-d177-4e79-9e9f-3a19d884812f button');\n",
              "      quickchartButtonEl.style.display =\n",
              "        google.colab.kernel.accessAllowed ? 'block' : 'none';\n",
              "    })();\n",
              "  </script>\n",
              "</div>\n",
              "\n",
              "  <div id=\"id_e1f49915-6054-4a5e-a983-05610aa83a12\">\n",
              "    <style>\n",
              "      .colab-df-generate {\n",
              "        background-color: #E8F0FE;\n",
              "        border: none;\n",
              "        border-radius: 50%;\n",
              "        cursor: pointer;\n",
              "        display: none;\n",
              "        fill: #1967D2;\n",
              "        height: 32px;\n",
              "        padding: 0 0 0 0;\n",
              "        width: 32px;\n",
              "      }\n",
              "\n",
              "      .colab-df-generate:hover {\n",
              "        background-color: #E2EBFA;\n",
              "        box-shadow: 0px 1px 2px rgba(60, 64, 67, 0.3), 0px 1px 3px 1px rgba(60, 64, 67, 0.15);\n",
              "        fill: #174EA6;\n",
              "      }\n",
              "\n",
              "      [theme=dark] .colab-df-generate {\n",
              "        background-color: #3B4455;\n",
              "        fill: #D2E3FC;\n",
              "      }\n",
              "\n",
              "      [theme=dark] .colab-df-generate:hover {\n",
              "        background-color: #434B5C;\n",
              "        box-shadow: 0px 1px 3px 1px rgba(0, 0, 0, 0.15);\n",
              "        filter: drop-shadow(0px 1px 2px rgba(0, 0, 0, 0.3));\n",
              "        fill: #FFFFFF;\n",
              "      }\n",
              "    </style>\n",
              "    <button class=\"colab-df-generate\" onclick=\"generateWithVariable('df')\"\n",
              "            title=\"Generate code using this dataframe.\"\n",
              "            style=\"display:none;\">\n",
              "\n",
              "  <svg xmlns=\"http://www.w3.org/2000/svg\" height=\"24px\"viewBox=\"0 0 24 24\"\n",
              "       width=\"24px\">\n",
              "    <path d=\"M7,19H8.4L18.45,9,17,7.55,7,17.6ZM5,21V16.75L18.45,3.32a2,2,0,0,1,2.83,0l1.4,1.43a1.91,1.91,0,0,1,.58,1.4,1.91,1.91,0,0,1-.58,1.4L9.25,21ZM18.45,9,17,7.55Zm-12,3A5.31,5.31,0,0,0,4.9,8.1,5.31,5.31,0,0,0,1,6.5,5.31,5.31,0,0,0,4.9,4.9,5.31,5.31,0,0,0,6.5,1,5.31,5.31,0,0,0,8.1,4.9,5.31,5.31,0,0,0,12,6.5,5.46,5.46,0,0,0,6.5,12Z\"/>\n",
              "  </svg>\n",
              "    </button>\n",
              "    <script>\n",
              "      (() => {\n",
              "      const buttonEl =\n",
              "        document.querySelector('#id_e1f49915-6054-4a5e-a983-05610aa83a12 button.colab-df-generate');\n",
              "      buttonEl.style.display =\n",
              "        google.colab.kernel.accessAllowed ? 'block' : 'none';\n",
              "\n",
              "      buttonEl.onclick = () => {\n",
              "        google.colab.notebook.generateWithVariable('df');\n",
              "      }\n",
              "      })();\n",
              "    </script>\n",
              "  </div>\n",
              "\n",
              "    </div>\n",
              "  </div>\n"
            ]
          },
          "metadata": {},
          "execution_count": 30
        }
      ]
    },
    {
      "cell_type": "code",
      "source": [
        "for col in data.columns:\n",
        "    print(col,\":\", len(data[col].unique()),' labels')"
      ],
      "metadata": {
        "colab": {
          "base_uri": "https://localhost:8080/"
        },
        "id": "rK5mAeQVRJcu",
        "outputId": "9e4721e3-f550-4dba-84dd-6349bddf0c84"
      },
      "execution_count": null,
      "outputs": [
        {
          "output_type": "stream",
          "name": "stdout",
          "text": [
            "Unnamed: 0 : 244  labels\n",
            "total_bill : 195  labels\n",
            "tip : 123  labels\n",
            "sex : 2  labels\n",
            "smoker : 2  labels\n",
            "day : 4  labels\n",
            "time : 2  labels\n",
            "size : 6  labels\n"
          ]
        }
      ]
    },
    {
      "cell_type": "code",
      "source": [
        "df = pd.get_dummies(data,drop_first=True)\n",
        "df.shape"
      ],
      "metadata": {
        "colab": {
          "base_uri": "https://localhost:8080/"
        },
        "id": "Tgr9HBiUULXB",
        "outputId": "4859ed3b-793c-4cb7-9acd-cf40662d43a3"
      },
      "execution_count": null,
      "outputs": [
        {
          "output_type": "execute_result",
          "data": {
            "text/plain": [
              "(244, 10)"
            ]
          },
          "metadata": {},
          "execution_count": 32
        }
      ]
    },
    {
      "cell_type": "code",
      "source": [
        "#2 Handle the categorical data in the tips dataset with the relevant approaches such as label-encoding, one hot encoding, ordinal encoding.\n",
        "\n",
        "#One hot encoding\n",
        "import seaborn as sns\n",
        "import pandas as pd\n",
        "tips = sns.load_dataset('tips')\n",
        "print(tips.head())\n",
        "tips_encoded = pd.get_dummies(tips, columns=['sex', 'smoker', 'day'])\n",
        "print(tips_encoded.head())"
      ],
      "metadata": {
        "id": "VluKHLYIUQgs",
        "outputId": "5d281efd-0698-4f8b-d116-d8f9af42b8dc",
        "colab": {
          "base_uri": "https://localhost:8080/"
        }
      },
      "execution_count": null,
      "outputs": [
        {
          "output_type": "stream",
          "name": "stdout",
          "text": [
            "   total_bill   tip     sex smoker  day    time  size\n",
            "0       16.99  1.01  Female     No  Sun  Dinner     2\n",
            "1       10.34  1.66    Male     No  Sun  Dinner     3\n",
            "2       21.01  3.50    Male     No  Sun  Dinner     3\n",
            "3       23.68  3.31    Male     No  Sun  Dinner     2\n",
            "4       24.59  3.61  Female     No  Sun  Dinner     4\n",
            "   total_bill   tip    time  size  sex_Male  sex_Female  smoker_Yes  \\\n",
            "0       16.99  1.01  Dinner     2         0           1           0   \n",
            "1       10.34  1.66  Dinner     3         1           0           0   \n",
            "2       21.01  3.50  Dinner     3         1           0           0   \n",
            "3       23.68  3.31  Dinner     2         1           0           0   \n",
            "4       24.59  3.61  Dinner     4         0           1           0   \n",
            "\n",
            "   smoker_No  day_Thur  day_Fri  day_Sat  day_Sun  \n",
            "0          1         0        0        0        1  \n",
            "1          1         0        0        0        1  \n",
            "2          1         0        0        0        1  \n",
            "3          1         0        0        0        1  \n",
            "4          1         0        0        0        1  \n"
          ]
        }
      ]
    },
    {
      "cell_type": "code",
      "source": [
        "#label encoding\n",
        "from sklearn.preprocessing import LabelEncoder\n",
        "categorical_cols = data.select_dtypes(include=['object']).columns\n",
        "label_encoder = LabelEncoder()\n",
        "for col in categorical_cols:\n",
        "    data[col] = label_encoder.fit_transform(data[col])\n",
        "print(data)"
      ],
      "metadata": {
        "colab": {
          "base_uri": "https://localhost:8080/"
        },
        "id": "L6FEteZOVZIH",
        "outputId": "f3c993f0-f962-4cd0-e9b7-14e33b2dbeb2"
      },
      "execution_count": null,
      "outputs": [
        {
          "output_type": "stream",
          "name": "stdout",
          "text": [
            "     Unnamed: 0  total_bill   tip  sex  smoker  day  time  size\n",
            "0             0       16.99  1.01    0       0    2     0     2\n",
            "1             1         NaN  1.66    1       0    2     0     3\n",
            "2             2       21.01  3.50    1       0    2     0     3\n",
            "3             3       23.68  3.31    1       0    2     0     2\n",
            "4             4       24.59  3.61    0       0    2     0     4\n",
            "..          ...         ...   ...  ...     ...  ...   ...   ...\n",
            "239         239       29.03  5.92    1       0    1     0     3\n",
            "240         240       27.18  2.00    0       1    1     0     2\n",
            "241         241       22.67  2.00    1       1    1     0     2\n",
            "242         242       17.82  1.75    1       0    1     0     2\n",
            "243         243       18.78  3.00    0       0    3     0     2\n",
            "\n",
            "[244 rows x 8 columns]\n"
          ]
        }
      ]
    },
    {
      "cell_type": "code",
      "source": [
        "#ordinal encoding\n",
        "\n",
        "import pandas as pd\n",
        "from sklearn.preprocessing import OrdinalEncoder\n",
        "tips_df = pd.read_csv(\"tips.csv\")\n",
        "day_order = ['Thur', 'Fri', 'Sat', 'Sun']\n",
        "time_order = ['Lunch', 'Dinner']\n",
        "sex_order = ['Male' , 'Female']\n",
        "smoker_order = ['yes','no']\n",
        "ordinal_categories = {\n",
        "    'day': day_order,\n",
        "    'time': time_order,\n",
        "    'sex': sex_order,\n",
        "    'smoker': smoker_order\n",
        "}\n",
        "ordinal_encoder = OrdinalEncoder(categories=[ordinal_categories[col] for col in ['day', 'time']])\n",
        "tips_df[['day', 'time']] = ordinal_encoder.fit_transform(tips_df[['day', 'time']])\n",
        "print(tips_df)"
      ],
      "metadata": {
        "colab": {
          "base_uri": "https://localhost:8080/"
        },
        "id": "tseWuDxHV9Uv",
        "outputId": "732a78c3-b53f-4ccd-f44a-420e2746ac15"
      },
      "execution_count": null,
      "outputs": [
        {
          "output_type": "stream",
          "name": "stdout",
          "text": [
            "     Unnamed: 0  total_bill   tip     sex smoker  day  time  size\n",
            "0             0       16.99  1.01  Female     No  3.0   1.0     2\n",
            "1             1         NaN  1.66    Male     No  3.0   1.0     3\n",
            "2             2       21.01  3.50    Male     No  3.0   1.0     3\n",
            "3             3       23.68  3.31    Male     No  3.0   1.0     2\n",
            "4             4       24.59  3.61  Female     No  3.0   1.0     4\n",
            "..          ...         ...   ...     ...    ...  ...   ...   ...\n",
            "239         239       29.03  5.92    Male     No  2.0   1.0     3\n",
            "240         240       27.18  2.00  Female    Yes  2.0   1.0     2\n",
            "241         241       22.67  2.00    Male    Yes  2.0   1.0     2\n",
            "242         242       17.82  1.75    Male     No  2.0   1.0     2\n",
            "243         243       18.78  3.00  Female     No  0.0   1.0     2\n",
            "\n",
            "[244 rows x 8 columns]\n"
          ]
        }
      ]
    },
    {
      "cell_type": "code",
      "source": [
        "#3 Perform feature scaling techniques such as min-max normalization, standardization, z-score, onthe tips dataset.\n",
        "import pandas as pd\n",
        "import seaborn as sns\n",
        "tips = sns.load_dataset('tips')\n",
        "print(tips.head())"
      ],
      "metadata": {
        "id": "-eN68qOFW7PX",
        "colab": {
          "base_uri": "https://localhost:8080/"
        },
        "outputId": "421a7f73-1f98-4eea-d1fe-f36e6bf377d5"
      },
      "execution_count": 1,
      "outputs": [
        {
          "output_type": "stream",
          "name": "stdout",
          "text": [
            "   total_bill   tip     sex smoker  day    time  size\n",
            "0       16.99  1.01  Female     No  Sun  Dinner     2\n",
            "1       10.34  1.66    Male     No  Sun  Dinner     3\n",
            "2       21.01  3.50    Male     No  Sun  Dinner     3\n",
            "3       23.68  3.31    Male     No  Sun  Dinner     2\n",
            "4       24.59  3.61  Female     No  Sun  Dinner     4\n"
          ]
        }
      ]
    },
    {
      "cell_type": "code",
      "source": [
        "#min max normalization\n",
        "\n",
        "from sklearn.preprocessing import MinMaxScaler\n",
        "scaler = MinMaxScaler()\n",
        "scaled_data = scaler.fit_transform(tips[['total_bill', 'tip']])\n",
        "scaled_df = pd.DataFrame(scaled_data, columns=['total_bill_scaled', 'tip_scaled'])\n",
        "scaled_tips = pd.concat([tips, scaled_df], axis=1)\n",
        "print(scaled_tips.head())"
      ],
      "metadata": {
        "colab": {
          "base_uri": "https://localhost:8080/"
        },
        "id": "ATDfsq1ruM6E",
        "outputId": "c26f476c-8baf-47c9-9ef6-a0d46a8bb066"
      },
      "execution_count": 2,
      "outputs": [
        {
          "output_type": "stream",
          "name": "stdout",
          "text": [
            "   total_bill   tip     sex smoker  day    time  size  total_bill_scaled  \\\n",
            "0       16.99  1.01  Female     No  Sun  Dinner     2           0.291579   \n",
            "1       10.34  1.66    Male     No  Sun  Dinner     3           0.152283   \n",
            "2       21.01  3.50    Male     No  Sun  Dinner     3           0.375786   \n",
            "3       23.68  3.31    Male     No  Sun  Dinner     2           0.431713   \n",
            "4       24.59  3.61  Female     No  Sun  Dinner     4           0.450775   \n",
            "\n",
            "   tip_scaled  \n",
            "0    0.001111  \n",
            "1    0.073333  \n",
            "2    0.277778  \n",
            "3    0.256667  \n",
            "4    0.290000  \n"
          ]
        }
      ]
    },
    {
      "cell_type": "code",
      "source": [
        "#standardization\n",
        "\n",
        "from sklearn.preprocessing import StandardScaler\n",
        "scaler = StandardScaler()\n",
        "standardized_data = scaler.fit_transform(tips[['total_bill', 'tip']])\n",
        "standardized_df = pd.DataFrame(standardized_data, columns=['total_bill_standardized', 'tip_standardized'])\n",
        "standardized_tips = pd.concat([tips, standardized_df], axis=1)\n",
        "print(standardized_tips.head())"
      ],
      "metadata": {
        "colab": {
          "base_uri": "https://localhost:8080/"
        },
        "id": "vqDGZfL3uXeu",
        "outputId": "baf906d5-3eef-4b15-a288-db7c0d487d22"
      },
      "execution_count": 3,
      "outputs": [
        {
          "output_type": "stream",
          "name": "stdout",
          "text": [
            "   total_bill   tip     sex smoker  day    time  size  \\\n",
            "0       16.99  1.01  Female     No  Sun  Dinner     2   \n",
            "1       10.34  1.66    Male     No  Sun  Dinner     3   \n",
            "2       21.01  3.50    Male     No  Sun  Dinner     3   \n",
            "3       23.68  3.31    Male     No  Sun  Dinner     2   \n",
            "4       24.59  3.61  Female     No  Sun  Dinner     4   \n",
            "\n",
            "   total_bill_standardized  tip_standardized  \n",
            "0                -0.314711         -1.439947  \n",
            "1                -1.063235         -0.969205  \n",
            "2                 0.137780          0.363356  \n",
            "3                 0.438315          0.225754  \n",
            "4                 0.540745          0.443020  \n"
          ]
        }
      ]
    },
    {
      "cell_type": "code",
      "source": [
        "# Z-score normalization\n",
        "\n",
        "print(standardized_tips.head())"
      ],
      "metadata": {
        "colab": {
          "base_uri": "https://localhost:8080/"
        },
        "id": "0p-JMi5QuhIm",
        "outputId": "b51fc747-5494-4823-87c3-b437a56771ec"
      },
      "execution_count": 4,
      "outputs": [
        {
          "output_type": "stream",
          "name": "stdout",
          "text": [
            "   total_bill   tip     sex smoker  day    time  size  \\\n",
            "0       16.99  1.01  Female     No  Sun  Dinner     2   \n",
            "1       10.34  1.66    Male     No  Sun  Dinner     3   \n",
            "2       21.01  3.50    Male     No  Sun  Dinner     3   \n",
            "3       23.68  3.31    Male     No  Sun  Dinner     2   \n",
            "4       24.59  3.61  Female     No  Sun  Dinner     4   \n",
            "\n",
            "   total_bill_standardized  tip_standardized  \n",
            "0                -0.314711         -1.439947  \n",
            "1                -1.063235         -0.969205  \n",
            "2                 0.137780          0.363356  \n",
            "3                 0.438315          0.225754  \n",
            "4                 0.540745          0.443020  \n"
          ]
        }
      ]
    },
    {
      "cell_type": "code",
      "source": [
        "#4 Create a new feature representing the average tip percentage for each dining party size.\n",
        "\n",
        "import pandas as pd\n",
        "import seaborn as sns\n",
        "tips = sns.load_dataset('tips')\n",
        "tips['tip_percentage'] = tips['tip'] / tips['total_bill'] * 100\n",
        "average_tip_percentage_by_size = tips.groupby('size')['tip_percentage'].mean().reset_index()\n",
        "average_tip_percentage_by_size.columns = ['party_size', 'avg_tip_percentage']\n",
        "print(average_tip_percentage_by_size)"
      ],
      "metadata": {
        "colab": {
          "base_uri": "https://localhost:8080/"
        },
        "id": "WU9JNNPvulsr",
        "outputId": "b197e788-31c0-4db6-d29c-550b9cbd8fa2"
      },
      "execution_count": 5,
      "outputs": [
        {
          "output_type": "stream",
          "name": "stdout",
          "text": [
            "   party_size  avg_tip_percentage\n",
            "0           1           21.729202\n",
            "1           2           16.571919\n",
            "2           3           15.215685\n",
            "3           4           14.594901\n",
            "4           5           14.149549\n",
            "5           6           15.622920\n"
          ]
        }
      ]
    },
    {
      "cell_type": "code",
      "source": [
        "#5 Create a new feature based on total bill and tips if total bill is greater than 10$ and tips is greater\n",
        "#than 3$ mark as Highest-bills-with-tips otherwise Normal-bills\n",
        "\n",
        "import pandas as pd\n",
        "import seaborn as sns\n",
        "tips = sns.load_dataset('tips')\n",
        "def label_bills(row):\n",
        "    if row['total_bill'] > 10 and row['tip'] > 3:\n",
        "        return 'Highest-bills-with-tips'\n",
        "    else:\n",
        "        return 'Normal-bills'\n",
        "tips['bill_and_tip_category'] = tips.apply(label_bills, axis=1)\n",
        "print(tips.head())"
      ],
      "metadata": {
        "colab": {
          "base_uri": "https://localhost:8080/"
        },
        "id": "LSXbUCezu-wQ",
        "outputId": "d95a56ee-8318-46fc-a11b-b3502c49c1f3"
      },
      "execution_count": 6,
      "outputs": [
        {
          "output_type": "stream",
          "name": "stdout",
          "text": [
            "   total_bill   tip     sex smoker  day    time  size    bill_and_tip_category\n",
            "0       16.99  1.01  Female     No  Sun  Dinner     2             Normal-bills\n",
            "1       10.34  1.66    Male     No  Sun  Dinner     3             Normal-bills\n",
            "2       21.01  3.50    Male     No  Sun  Dinner     3  Highest-bills-with-tips\n",
            "3       23.68  3.31    Male     No  Sun  Dinner     2  Highest-bills-with-tips\n",
            "4       24.59  3.61  Female     No  Sun  Dinner     4  Highest-bills-with-tips\n"
          ]
        }
      ]
    },
    {
      "cell_type": "code",
      "source": [],
      "metadata": {
        "id": "1LZqDkWsvUn6"
      },
      "execution_count": null,
      "outputs": []
    }
  ]
}